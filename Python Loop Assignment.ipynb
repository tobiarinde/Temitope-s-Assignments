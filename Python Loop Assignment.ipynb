{
 "cells": [
  {
   "cell_type": "markdown",
   "id": "30780569",
   "metadata": {},
   "source": [
    "ASSIGNMENT\n",
    "\n",
    "Exercise\n",
    "Write a program using the following list and sort it based on the sum of the values of the tuples of the list:\n",
    "[(1,5),(9,0),(12,3),(5,4),(13,6),(1,1)]\n",
    "\n",
    "\n",
    "Given a two Python list. Iterate both lists simultaneously such that list1 should display item in original order and list2 in reverse order:\n",
    "list1 = [10, 20, 30, 40], list2 = [100, 200, 300, 400]\n",
    "\n",
    "\n",
    "Given number 1 through 10, write a program to display \"Even\" for even numbers and \"Odd\" for odd numbers.\n",
    "\n",
    "Write a Python program to count the number of strings where the string length is 2 or more and the first and last character are same from a given list of strings:\n",
    "['abc', 'xyz', 'aba', '1221', 'bhgsskknb', 'aa', 'd']\n",
    "\n",
    "\n",
    "Write a program to collect 5 different numbers from a user and display the average of the five numbers without storing the values collected at any point.\n",
    "\n",
    "write a program such that  𝑙𝑖𝑠𝑡1  will act as keys while  𝑙𝑖𝑠𝑡2  will act as the values of the dictionary:\n",
    "\n",
    "list1 = [1, 2, 3, 4, 5], list2 = [\"a\", \"b\", \"c\",\"d\", \"e\"]\n"
   ]
  },
  {
   "cell_type": "code",
   "execution_count": 13,
   "id": "90e10eb4",
   "metadata": {},
   "outputs": [
    {
     "name": "stdout",
     "output_type": "stream",
     "text": [
      "\n",
      "The answer is\n",
      "[(1, 1), (1, 5), (9, 0), (5, 4), (12, 3), (13, 6)]\n"
     ]
    }
   ],
   "source": [
    "# Question 1: sum each tuple in the list then sort the answers\n",
    "\n",
    "s = [(1,5),(9,0),(12,3),(5,4),(13,6),(1,1)]\n",
    "\n",
    "# getting length of list of tuples\n",
    "lst = len(s)\n",
    "  \n",
    "# Bubble sort\n",
    "for i in range(lst):\n",
    "      \n",
    "    for j in range(lst-i-1):\n",
    "        if (s[j][0]+s[j][1]) > (s[j+1][0]+s[j+1][1]):\n",
    "            s[j], s[j+1] = s[j+1], s[j]\n",
    "            \n",
    "# print output\n",
    "print(\"\\nThe answer is\")\n",
    "print(s)\n",
    "  "
   ]
  },
  {
   "cell_type": "code",
   "execution_count": 2,
   "id": "b1f1ea02",
   "metadata": {},
   "outputs": [
    {
     "name": "stdout",
     "output_type": "stream",
     "text": [
      "[10, 20, 30, 40] and [400, 300, 200, 100]\n"
     ]
    }
   ],
   "source": [
    "# Question 2\n",
    "\n",
    "list1 = [10, 20, 30, 40]\n",
    "list2 = [100, 200, 300, 400]\n",
    "\n",
    "list2.reverse()\n",
    "\n",
    "print(list1, \"and\", list2)"
   ]
  },
  {
   "cell_type": "code",
   "execution_count": 3,
   "id": "fa6c2606",
   "metadata": {},
   "outputs": [
    {
     "name": "stdout",
     "output_type": "stream",
     "text": [
      "2\n",
      "4\n",
      "6\n",
      "8\n",
      "10\n"
     ]
    }
   ],
   "source": [
    "#Question 3\n",
    "\n",
    "a = [1,2,3,4,5,6,7,8,9,10]\n",
    "\n",
    "for i in range(1,11): \n",
    "    if i%2 == 0: \n",
    "        print(i) "
   ]
  },
  {
   "cell_type": "code",
   "execution_count": 4,
   "id": "cc211aca",
   "metadata": {},
   "outputs": [
    {
     "name": "stdout",
     "output_type": "stream",
     "text": [
      "4\n"
     ]
    }
   ],
   "source": [
    "#Question 4\n",
    "\n",
    "b = ['abc', 'xyz', 'aba', '1221', 'bhgsskknb', 'aa', 'd']\n",
    "ch = 0\n",
    "for w in b:\n",
    "    if len(w) > 1 and w[0] == w[-1]:\n",
    "        ch += 1\n",
    "print(ch)"
   ]
  },
  {
   "cell_type": "code",
   "execution_count": 11,
   "id": "baa9d03b",
   "metadata": {},
   "outputs": [
    {
     "name": "stdout",
     "output_type": "stream",
     "text": [
      "Enter first number1\n",
      "Enter second number2\n",
      "Enter third number3\n",
      "Enter fourth number4\n",
      "Enter fifth number5\n",
      "Addition is 15\n",
      "Average is 3.0\n"
     ]
    }
   ],
   "source": [
    "# Question 5\n",
    "a = int(input(\"Enter first number\"))\n",
    "b = int(input(\"Enter second number\"))\n",
    "c = int(input(\"Enter third number\"))\n",
    "d = int(input(\"Enter fourth number\"))\n",
    "e = int(input(\"Enter fifth number\"))\n",
    "\n",
    "add = a + b + c + d + e \n",
    "\n",
    "print(\"Addition is\", add)\n",
    "\n",
    "average = add / 5\n",
    "\n",
    "print(\"Average is\", average)\n"
   ]
  },
  {
   "cell_type": "code",
   "execution_count": 7,
   "id": "922107ab",
   "metadata": {},
   "outputs": [
    {
     "name": "stdout",
     "output_type": "stream",
     "text": [
      "{1: 'a', 2: 'b', 3: 'c', 4: 'd', 5: 'e'}\n"
     ]
    }
   ],
   "source": [
    "# Question 6\n",
    "\n",
    "list1 = [1, 2, 3, 4, 5]\n",
    "list2 = [\"a\", \"b\", \"c\",\"d\", \"e\"]\n",
    "\n",
    "result1 = {}\n",
    "result1 = dict(zip(list1, list2))\n",
    "print(result1)"
   ]
  },
  {
   "cell_type": "code",
   "execution_count": null,
   "id": "2830b6fe",
   "metadata": {},
   "outputs": [],
   "source": []
  },
  {
   "cell_type": "code",
   "execution_count": null,
   "id": "f59cd5a2",
   "metadata": {},
   "outputs": [],
   "source": []
  }
 ],
 "metadata": {
  "kernelspec": {
   "display_name": "Python 3 (ipykernel)",
   "language": "python",
   "name": "python3"
  },
  "language_info": {
   "codemirror_mode": {
    "name": "ipython",
    "version": 3
   },
   "file_extension": ".py",
   "mimetype": "text/x-python",
   "name": "python",
   "nbconvert_exporter": "python",
   "pygments_lexer": "ipython3",
   "version": "3.9.12"
  }
 },
 "nbformat": 4,
 "nbformat_minor": 5
}
